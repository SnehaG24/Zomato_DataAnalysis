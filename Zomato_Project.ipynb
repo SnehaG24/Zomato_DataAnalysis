{
 "cells": [
  {
   "cell_type": "code",
   "execution_count": 1,
   "id": "be8f3a18",
   "metadata": {},
   "outputs": [
    {
     "name": "stderr",
     "output_type": "stream",
     "text": [
      "C:\\Users\\Admin\\AppData\\Roaming\\Python\\Python310\\site-packages\\pandas\\core\\arrays\\masked.py:60: UserWarning: Pandas requires version '1.3.6' or newer of 'bottleneck' (version '1.3.5' currently installed).\n",
      "  from pandas.core import (\n"
     ]
    }
   ],
   "source": [
    "import pandas\n",
    "import numpy\n",
    "import matplotlib.pyplot as plt\n",
    "%matplotlib inline\n",
    "import seaborn"
   ]
  },
  {
   "cell_type": "code",
   "execution_count": 2,
   "id": "a790e30d",
   "metadata": {},
   "outputs": [],
   "source": [
    "zomatodata = pandas.read_csv(\"Zomato data .csv\")"
   ]
  },
  {
   "cell_type": "code",
   "execution_count": 3,
   "id": "5cefa579",
   "metadata": {},
   "outputs": [
    {
     "data": {
      "text/html": [
       "<div>\n",
       "<style scoped>\n",
       "    .dataframe tbody tr th:only-of-type {\n",
       "        vertical-align: middle;\n",
       "    }\n",
       "\n",
       "    .dataframe tbody tr th {\n",
       "        vertical-align: top;\n",
       "    }\n",
       "\n",
       "    .dataframe thead th {\n",
       "        text-align: right;\n",
       "    }\n",
       "</style>\n",
       "<table border=\"1\" class=\"dataframe\">\n",
       "  <thead>\n",
       "    <tr style=\"text-align: right;\">\n",
       "      <th></th>\n",
       "      <th>name</th>\n",
       "      <th>online_order</th>\n",
       "      <th>book_table</th>\n",
       "      <th>rate</th>\n",
       "      <th>votes</th>\n",
       "      <th>approx_cost(for two people)</th>\n",
       "      <th>listed_in(type)</th>\n",
       "    </tr>\n",
       "  </thead>\n",
       "  <tbody>\n",
       "    <tr>\n",
       "      <th>0</th>\n",
       "      <td>Jalsa</td>\n",
       "      <td>Yes</td>\n",
       "      <td>Yes</td>\n",
       "      <td>4.1/5</td>\n",
       "      <td>775</td>\n",
       "      <td>800</td>\n",
       "      <td>Buffet</td>\n",
       "    </tr>\n",
       "    <tr>\n",
       "      <th>1</th>\n",
       "      <td>Spice Elephant</td>\n",
       "      <td>Yes</td>\n",
       "      <td>No</td>\n",
       "      <td>4.1/5</td>\n",
       "      <td>787</td>\n",
       "      <td>800</td>\n",
       "      <td>Buffet</td>\n",
       "    </tr>\n",
       "    <tr>\n",
       "      <th>2</th>\n",
       "      <td>San Churro Cafe</td>\n",
       "      <td>Yes</td>\n",
       "      <td>No</td>\n",
       "      <td>3.8/5</td>\n",
       "      <td>918</td>\n",
       "      <td>800</td>\n",
       "      <td>Buffet</td>\n",
       "    </tr>\n",
       "    <tr>\n",
       "      <th>3</th>\n",
       "      <td>Addhuri Udupi Bhojana</td>\n",
       "      <td>No</td>\n",
       "      <td>No</td>\n",
       "      <td>3.7/5</td>\n",
       "      <td>88</td>\n",
       "      <td>300</td>\n",
       "      <td>Buffet</td>\n",
       "    </tr>\n",
       "    <tr>\n",
       "      <th>4</th>\n",
       "      <td>Grand Village</td>\n",
       "      <td>No</td>\n",
       "      <td>No</td>\n",
       "      <td>3.8/5</td>\n",
       "      <td>166</td>\n",
       "      <td>600</td>\n",
       "      <td>Buffet</td>\n",
       "    </tr>\n",
       "    <tr>\n",
       "      <th>...</th>\n",
       "      <td>...</td>\n",
       "      <td>...</td>\n",
       "      <td>...</td>\n",
       "      <td>...</td>\n",
       "      <td>...</td>\n",
       "      <td>...</td>\n",
       "      <td>...</td>\n",
       "    </tr>\n",
       "    <tr>\n",
       "      <th>143</th>\n",
       "      <td>Melting Melodies</td>\n",
       "      <td>No</td>\n",
       "      <td>No</td>\n",
       "      <td>3.3/5</td>\n",
       "      <td>0</td>\n",
       "      <td>100</td>\n",
       "      <td>Dining</td>\n",
       "    </tr>\n",
       "    <tr>\n",
       "      <th>144</th>\n",
       "      <td>New Indraprasta</td>\n",
       "      <td>No</td>\n",
       "      <td>No</td>\n",
       "      <td>3.3/5</td>\n",
       "      <td>0</td>\n",
       "      <td>150</td>\n",
       "      <td>Dining</td>\n",
       "    </tr>\n",
       "    <tr>\n",
       "      <th>145</th>\n",
       "      <td>Anna Kuteera</td>\n",
       "      <td>Yes</td>\n",
       "      <td>No</td>\n",
       "      <td>4.0/5</td>\n",
       "      <td>771</td>\n",
       "      <td>450</td>\n",
       "      <td>Dining</td>\n",
       "    </tr>\n",
       "    <tr>\n",
       "      <th>146</th>\n",
       "      <td>Darbar</td>\n",
       "      <td>No</td>\n",
       "      <td>No</td>\n",
       "      <td>3.0/5</td>\n",
       "      <td>98</td>\n",
       "      <td>800</td>\n",
       "      <td>Dining</td>\n",
       "    </tr>\n",
       "    <tr>\n",
       "      <th>147</th>\n",
       "      <td>Vijayalakshmi</td>\n",
       "      <td>Yes</td>\n",
       "      <td>No</td>\n",
       "      <td>3.9/5</td>\n",
       "      <td>47</td>\n",
       "      <td>200</td>\n",
       "      <td>Dining</td>\n",
       "    </tr>\n",
       "  </tbody>\n",
       "</table>\n",
       "<p>148 rows × 7 columns</p>\n",
       "</div>"
      ],
      "text/plain": [
       "                      name online_order book_table   rate  votes  \\\n",
       "0                    Jalsa          Yes        Yes  4.1/5    775   \n",
       "1           Spice Elephant          Yes         No  4.1/5    787   \n",
       "2          San Churro Cafe          Yes         No  3.8/5    918   \n",
       "3    Addhuri Udupi Bhojana           No         No  3.7/5     88   \n",
       "4            Grand Village           No         No  3.8/5    166   \n",
       "..                     ...          ...        ...    ...    ...   \n",
       "143       Melting Melodies           No         No  3.3/5      0   \n",
       "144        New Indraprasta           No         No  3.3/5      0   \n",
       "145           Anna Kuteera          Yes         No  4.0/5    771   \n",
       "146                 Darbar           No         No  3.0/5     98   \n",
       "147          Vijayalakshmi          Yes         No  3.9/5     47   \n",
       "\n",
       "     approx_cost(for two people) listed_in(type)  \n",
       "0                            800          Buffet  \n",
       "1                            800          Buffet  \n",
       "2                            800          Buffet  \n",
       "3                            300          Buffet  \n",
       "4                            600          Buffet  \n",
       "..                           ...             ...  \n",
       "143                          100          Dining  \n",
       "144                          150          Dining  \n",
       "145                          450          Dining  \n",
       "146                          800          Dining  \n",
       "147                          200          Dining  \n",
       "\n",
       "[148 rows x 7 columns]"
      ]
     },
     "execution_count": 3,
     "metadata": {},
     "output_type": "execute_result"
    }
   ],
   "source": [
    "zomatodata"
   ]
  },
  {
   "cell_type": "code",
   "execution_count": 4,
   "id": "b977a863",
   "metadata": {
    "scrolled": true
   },
   "outputs": [],
   "source": [
    "def handling(value):\n",
    "    value = str(value)\n",
    "    value=value.split('/')\n",
    "    value=value[0]\n",
    "    return float(value)\n",
    "\n",
    "zomatodata[\"rate\"] = zomatodata[\"rate\"].apply(handling)\n",
    "\n",
    "# zomatodata.loc[:,\"rate\"] = zomatodata.loc[:,\"rate\"].apply(handling)"
   ]
  },
  {
   "cell_type": "code",
   "execution_count": 5,
   "id": "99a8a064",
   "metadata": {},
   "outputs": [
    {
     "data": {
      "text/html": [
       "<div>\n",
       "<style scoped>\n",
       "    .dataframe tbody tr th:only-of-type {\n",
       "        vertical-align: middle;\n",
       "    }\n",
       "\n",
       "    .dataframe tbody tr th {\n",
       "        vertical-align: top;\n",
       "    }\n",
       "\n",
       "    .dataframe thead th {\n",
       "        text-align: right;\n",
       "    }\n",
       "</style>\n",
       "<table border=\"1\" class=\"dataframe\">\n",
       "  <thead>\n",
       "    <tr style=\"text-align: right;\">\n",
       "      <th></th>\n",
       "      <th>name</th>\n",
       "      <th>online_order</th>\n",
       "      <th>book_table</th>\n",
       "      <th>rate</th>\n",
       "      <th>votes</th>\n",
       "      <th>approx_cost(for two people)</th>\n",
       "      <th>listed_in(type)</th>\n",
       "    </tr>\n",
       "  </thead>\n",
       "  <tbody>\n",
       "    <tr>\n",
       "      <th>0</th>\n",
       "      <td>Jalsa</td>\n",
       "      <td>Yes</td>\n",
       "      <td>Yes</td>\n",
       "      <td>4.1</td>\n",
       "      <td>775</td>\n",
       "      <td>800</td>\n",
       "      <td>Buffet</td>\n",
       "    </tr>\n",
       "    <tr>\n",
       "      <th>1</th>\n",
       "      <td>Spice Elephant</td>\n",
       "      <td>Yes</td>\n",
       "      <td>No</td>\n",
       "      <td>4.1</td>\n",
       "      <td>787</td>\n",
       "      <td>800</td>\n",
       "      <td>Buffet</td>\n",
       "    </tr>\n",
       "    <tr>\n",
       "      <th>2</th>\n",
       "      <td>San Churro Cafe</td>\n",
       "      <td>Yes</td>\n",
       "      <td>No</td>\n",
       "      <td>3.8</td>\n",
       "      <td>918</td>\n",
       "      <td>800</td>\n",
       "      <td>Buffet</td>\n",
       "    </tr>\n",
       "    <tr>\n",
       "      <th>3</th>\n",
       "      <td>Addhuri Udupi Bhojana</td>\n",
       "      <td>No</td>\n",
       "      <td>No</td>\n",
       "      <td>3.7</td>\n",
       "      <td>88</td>\n",
       "      <td>300</td>\n",
       "      <td>Buffet</td>\n",
       "    </tr>\n",
       "    <tr>\n",
       "      <th>4</th>\n",
       "      <td>Grand Village</td>\n",
       "      <td>No</td>\n",
       "      <td>No</td>\n",
       "      <td>3.8</td>\n",
       "      <td>166</td>\n",
       "      <td>600</td>\n",
       "      <td>Buffet</td>\n",
       "    </tr>\n",
       "    <tr>\n",
       "      <th>...</th>\n",
       "      <td>...</td>\n",
       "      <td>...</td>\n",
       "      <td>...</td>\n",
       "      <td>...</td>\n",
       "      <td>...</td>\n",
       "      <td>...</td>\n",
       "      <td>...</td>\n",
       "    </tr>\n",
       "    <tr>\n",
       "      <th>143</th>\n",
       "      <td>Melting Melodies</td>\n",
       "      <td>No</td>\n",
       "      <td>No</td>\n",
       "      <td>3.3</td>\n",
       "      <td>0</td>\n",
       "      <td>100</td>\n",
       "      <td>Dining</td>\n",
       "    </tr>\n",
       "    <tr>\n",
       "      <th>144</th>\n",
       "      <td>New Indraprasta</td>\n",
       "      <td>No</td>\n",
       "      <td>No</td>\n",
       "      <td>3.3</td>\n",
       "      <td>0</td>\n",
       "      <td>150</td>\n",
       "      <td>Dining</td>\n",
       "    </tr>\n",
       "    <tr>\n",
       "      <th>145</th>\n",
       "      <td>Anna Kuteera</td>\n",
       "      <td>Yes</td>\n",
       "      <td>No</td>\n",
       "      <td>4.0</td>\n",
       "      <td>771</td>\n",
       "      <td>450</td>\n",
       "      <td>Dining</td>\n",
       "    </tr>\n",
       "    <tr>\n",
       "      <th>146</th>\n",
       "      <td>Darbar</td>\n",
       "      <td>No</td>\n",
       "      <td>No</td>\n",
       "      <td>3.0</td>\n",
       "      <td>98</td>\n",
       "      <td>800</td>\n",
       "      <td>Dining</td>\n",
       "    </tr>\n",
       "    <tr>\n",
       "      <th>147</th>\n",
       "      <td>Vijayalakshmi</td>\n",
       "      <td>Yes</td>\n",
       "      <td>No</td>\n",
       "      <td>3.9</td>\n",
       "      <td>47</td>\n",
       "      <td>200</td>\n",
       "      <td>Dining</td>\n",
       "    </tr>\n",
       "  </tbody>\n",
       "</table>\n",
       "<p>148 rows × 7 columns</p>\n",
       "</div>"
      ],
      "text/plain": [
       "                      name online_order book_table  rate  votes  \\\n",
       "0                    Jalsa          Yes        Yes   4.1    775   \n",
       "1           Spice Elephant          Yes         No   4.1    787   \n",
       "2          San Churro Cafe          Yes         No   3.8    918   \n",
       "3    Addhuri Udupi Bhojana           No         No   3.7     88   \n",
       "4            Grand Village           No         No   3.8    166   \n",
       "..                     ...          ...        ...   ...    ...   \n",
       "143       Melting Melodies           No         No   3.3      0   \n",
       "144        New Indraprasta           No         No   3.3      0   \n",
       "145           Anna Kuteera          Yes         No   4.0    771   \n",
       "146                 Darbar           No         No   3.0     98   \n",
       "147          Vijayalakshmi          Yes         No   3.9     47   \n",
       "\n",
       "     approx_cost(for two people) listed_in(type)  \n",
       "0                            800          Buffet  \n",
       "1                            800          Buffet  \n",
       "2                            800          Buffet  \n",
       "3                            300          Buffet  \n",
       "4                            600          Buffet  \n",
       "..                           ...             ...  \n",
       "143                          100          Dining  \n",
       "144                          150          Dining  \n",
       "145                          450          Dining  \n",
       "146                          800          Dining  \n",
       "147                          200          Dining  \n",
       "\n",
       "[148 rows x 7 columns]"
      ]
     },
     "execution_count": 5,
     "metadata": {},
     "output_type": "execute_result"
    }
   ],
   "source": [
    "zomatodata"
   ]
  },
  {
   "cell_type": "code",
   "execution_count": 6,
   "id": "ecf2ce5b",
   "metadata": {},
   "outputs": [
    {
     "data": {
      "text/html": [
       "<div>\n",
       "<style scoped>\n",
       "    .dataframe tbody tr th:only-of-type {\n",
       "        vertical-align: middle;\n",
       "    }\n",
       "\n",
       "    .dataframe tbody tr th {\n",
       "        vertical-align: top;\n",
       "    }\n",
       "\n",
       "    .dataframe thead th {\n",
       "        text-align: right;\n",
       "    }\n",
       "</style>\n",
       "<table border=\"1\" class=\"dataframe\">\n",
       "  <thead>\n",
       "    <tr style=\"text-align: right;\">\n",
       "      <th></th>\n",
       "      <th>rate</th>\n",
       "      <th>votes</th>\n",
       "      <th>approx_cost(for two people)</th>\n",
       "    </tr>\n",
       "  </thead>\n",
       "  <tbody>\n",
       "    <tr>\n",
       "      <th>count</th>\n",
       "      <td>148.000000</td>\n",
       "      <td>148.000000</td>\n",
       "      <td>148.000000</td>\n",
       "    </tr>\n",
       "    <tr>\n",
       "      <th>mean</th>\n",
       "      <td>3.633108</td>\n",
       "      <td>264.810811</td>\n",
       "      <td>418.243243</td>\n",
       "    </tr>\n",
       "    <tr>\n",
       "      <th>std</th>\n",
       "      <td>0.402271</td>\n",
       "      <td>653.676951</td>\n",
       "      <td>223.085098</td>\n",
       "    </tr>\n",
       "    <tr>\n",
       "      <th>min</th>\n",
       "      <td>2.600000</td>\n",
       "      <td>0.000000</td>\n",
       "      <td>100.000000</td>\n",
       "    </tr>\n",
       "    <tr>\n",
       "      <th>25%</th>\n",
       "      <td>3.300000</td>\n",
       "      <td>6.750000</td>\n",
       "      <td>200.000000</td>\n",
       "    </tr>\n",
       "    <tr>\n",
       "      <th>50%</th>\n",
       "      <td>3.700000</td>\n",
       "      <td>43.500000</td>\n",
       "      <td>400.000000</td>\n",
       "    </tr>\n",
       "    <tr>\n",
       "      <th>75%</th>\n",
       "      <td>3.900000</td>\n",
       "      <td>221.750000</td>\n",
       "      <td>600.000000</td>\n",
       "    </tr>\n",
       "    <tr>\n",
       "      <th>max</th>\n",
       "      <td>4.600000</td>\n",
       "      <td>4884.000000</td>\n",
       "      <td>950.000000</td>\n",
       "    </tr>\n",
       "  </tbody>\n",
       "</table>\n",
       "</div>"
      ],
      "text/plain": [
       "             rate        votes  approx_cost(for two people)\n",
       "count  148.000000   148.000000                   148.000000\n",
       "mean     3.633108   264.810811                   418.243243\n",
       "std      0.402271   653.676951                   223.085098\n",
       "min      2.600000     0.000000                   100.000000\n",
       "25%      3.300000     6.750000                   200.000000\n",
       "50%      3.700000    43.500000                   400.000000\n",
       "75%      3.900000   221.750000                   600.000000\n",
       "max      4.600000  4884.000000                   950.000000"
      ]
     },
     "execution_count": 6,
     "metadata": {},
     "output_type": "execute_result"
    }
   ],
   "source": [
    "zomatodata.describe()"
   ]
  },
  {
   "cell_type": "code",
   "execution_count": 7,
   "id": "83fa5dd0",
   "metadata": {},
   "outputs": [
    {
     "name": "stdout",
     "output_type": "stream",
     "text": [
      "<class 'pandas.core.frame.DataFrame'>\n",
      "RangeIndex: 148 entries, 0 to 147\n",
      "Data columns (total 7 columns):\n",
      " #   Column                       Non-Null Count  Dtype  \n",
      "---  ------                       --------------  -----  \n",
      " 0   name                         148 non-null    object \n",
      " 1   online_order                 148 non-null    object \n",
      " 2   book_table                   148 non-null    object \n",
      " 3   rate                         148 non-null    float64\n",
      " 4   votes                        148 non-null    int64  \n",
      " 5   approx_cost(for two people)  148 non-null    int64  \n",
      " 6   listed_in(type)              148 non-null    object \n",
      "dtypes: float64(1), int64(2), object(4)\n",
      "memory usage: 8.2+ KB\n"
     ]
    }
   ],
   "source": [
    "zomatodata.info()"
   ]
  },
  {
   "cell_type": "code",
   "execution_count": null,
   "id": "02154cd5",
   "metadata": {},
   "outputs": [],
   "source": []
  },
  {
   "cell_type": "markdown",
   "id": "31ab6937",
   "metadata": {},
   "source": [
    "# Types of Restaurants majority customers order from : "
   ]
  },
  {
   "cell_type": "code",
   "execution_count": 8,
   "id": "9d64b8bd",
   "metadata": {},
   "outputs": [],
   "source": [
    "group_rest = zomatodata.groupby(\"listed_in(type)\")"
   ]
  },
  {
   "cell_type": "code",
   "execution_count": 9,
   "id": "f68e3240",
   "metadata": {},
   "outputs": [
    {
     "name": "stdout",
     "output_type": "stream",
     "text": [
      "Types Of Restaurants: \n",
      "Buffet\n",
      "Cafes\n",
      "Dining\n",
      "other\n"
     ]
    }
   ],
   "source": [
    "print(\"Types Of Restaurants: \")\n",
    "for rest_name , rest_type in group_rest:\n",
    "    print(rest_name)"
   ]
  },
  {
   "cell_type": "code",
   "execution_count": 10,
   "id": "4a724801",
   "metadata": {},
   "outputs": [
    {
     "name": "stdout",
     "output_type": "stream",
     "text": [
      "Buffet\n",
      "                                              name online_order book_table  \\\n",
      "0                                            Jalsa          Yes        Yes   \n",
      "1                                   Spice Elephant          Yes         No   \n",
      "2                                  San Churro Cafe          Yes         No   \n",
      "3                            Addhuri Udupi Bhojana           No         No   \n",
      "4                                    Grand Village           No         No   \n",
      "5                                  Timepass Dinner          Yes         No   \n",
      "6  Rosewood International Hotel - Bar & Restaurant           No         No   \n",
      "\n",
      "   rate  votes  approx_cost(for two people) listed_in(type)  \n",
      "0   4.1    775                          800          Buffet  \n",
      "1   4.1    787                          800          Buffet  \n",
      "2   3.8    918                          800          Buffet  \n",
      "3   3.7     88                          300          Buffet  \n",
      "4   3.8    166                          600          Buffet  \n",
      "5   3.8    286                          600          Buffet  \n",
      "6   3.6      8                          800          Buffet  \n",
      "Cafes\n",
      "                             name online_order book_table  rate  votes  \\\n",
      "7                          Onesta          Yes        Yes   4.6   2556   \n",
      "9                       Smacznego          Yes         No   4.2    504   \n",
      "10                   Village Café          Yes         No   4.1    402   \n",
      "11                   Cafe Shuffle          Yes        Yes   4.2    150   \n",
      "12               The Coffee Shack          Yes        Yes   4.2    164   \n",
      "13                     Caf-Eleven           No         No   4.0    424   \n",
      "14                San Churro Cafe          Yes         No   3.8    918   \n",
      "15                  Cafe Vivacity          Yes         No   3.8     90   \n",
      "16                   Catch-up-ino          Yes         No   3.9    133   \n",
      "17               Kirthi's Biryani          Yes         No   3.8    144   \n",
      "18                       T3H Cafe           No         No   3.9     93   \n",
      "19  360 Atoms Restaurant And Cafe          Yes         No   3.1     13   \n",
      "20               The Vintage Cafe          Yes         No   3.0     62   \n",
      "21                   Woodee Pizza          Yes         No   3.7    180   \n",
      "22                Cafe Coffee Day           No         No   3.6     28   \n",
      "23                   My Tea House          Yes         No   3.6     62   \n",
      "24                  Hide Out Cafe           No         No   3.7     31   \n",
      "25                      CAFE NOVA           No         No   3.2     11   \n",
      "26                   Coffee Tindi          Yes         No   3.8     75   \n",
      "27                 Sea Green Cafe           No         No   3.3      4   \n",
      "28                          Cuppa           No         No   3.3     23   \n",
      "29               Srinathji's Cafe           No         No   3.8    148   \n",
      "30                      Redberrys          Yes         No   4.0    219   \n",
      "\n",
      "    approx_cost(for two people) listed_in(type)  \n",
      "7                           600           Cafes  \n",
      "9                           550           Cafes  \n",
      "10                          500           Cafes  \n",
      "11                          600           Cafes  \n",
      "12                          500           Cafes  \n",
      "13                          450           Cafes  \n",
      "14                          800           Cafes  \n",
      "15                          650           Cafes  \n",
      "16                          800           Cafes  \n",
      "17                          700           Cafes  \n",
      "18                          300           Cafes  \n",
      "19                          400           Cafes  \n",
      "20                          400           Cafes  \n",
      "21                          500           Cafes  \n",
      "22                          900           Cafes  \n",
      "23                          600           Cafes  \n",
      "24                          300           Cafes  \n",
      "25                          600           Cafes  \n",
      "26                          200           Cafes  \n",
      "27                          500           Cafes  \n",
      "28                          550           Cafes  \n",
      "29                          550           Cafes  \n",
      "30                          600           Cafes  \n",
      "Dining\n",
      "                 name online_order book_table  rate  votes  \\\n",
      "32        Sweet Truth          Yes         No   3.9     35   \n",
      "33    Ovenstory Pizza          Yes         No   3.9    172   \n",
      "35    Behrouz Biryani          Yes         No   3.9    230   \n",
      "36     Fast And Fresh          Yes         No   2.8     91   \n",
      "37    Szechuan Dragon          Yes         No   4.2   1647   \n",
      "..                ...          ...        ...   ...    ...   \n",
      "143  Melting Melodies           No         No   3.3      0   \n",
      "144   New Indraprasta           No         No   3.3      0   \n",
      "145      Anna Kuteera          Yes         No   4.0    771   \n",
      "146            Darbar           No         No   3.0     98   \n",
      "147     Vijayalakshmi          Yes         No   3.9     47   \n",
      "\n",
      "     approx_cost(for two people) listed_in(type)  \n",
      "32                           500          Dining  \n",
      "33                           750          Dining  \n",
      "35                           650          Dining  \n",
      "36                           400          Dining  \n",
      "37                           600          Dining  \n",
      "..                           ...             ...  \n",
      "143                          100          Dining  \n",
      "144                          150          Dining  \n",
      "145                          450          Dining  \n",
      "146                          800          Dining  \n",
      "147                          200          Dining  \n",
      "\n",
      "[110 rows x 7 columns]\n",
      "other\n",
      "                 name online_order book_table  rate  votes  \\\n",
      "8      Penthouse Cafe          Yes         No   4.0    324   \n",
      "31         Foodiction          Yes         No   2.8    506   \n",
      "34             Faasos          Yes         No   4.2    415   \n",
      "38  Empire Restaurant          Yes         No   4.4   4884   \n",
      "44             Onesta          Yes        Yes   4.6   2556   \n",
      "57             Wamama          Yes        Yes   4.2    354   \n",
      "60      Peppy Peppers           No         No   4.2    244   \n",
      "73           LSD Cafe           No         No   2.9     84   \n",
      "\n",
      "    approx_cost(for two people) listed_in(type)  \n",
      "8                           700           other  \n",
      "31                          500           other  \n",
      "34                          500           other  \n",
      "38                          750           other  \n",
      "44                          600           other  \n",
      "57                          800           other  \n",
      "60                          800           other  \n",
      "73                          700           other  \n"
     ]
    }
   ],
   "source": [
    "for rest_name , rest_type in group_rest:\n",
    "    print(rest_name)\n",
    "    print(rest_type)"
   ]
  },
  {
   "cell_type": "code",
   "execution_count": 11,
   "id": "fabc76d7",
   "metadata": {
    "scrolled": true
   },
   "outputs": [
    {
     "data": {
      "text/plain": [
       "listed_in(type)\n",
       "Buffet      7\n",
       "Cafes      23\n",
       "Dining    110\n",
       "other       8\n",
       "Name: listed_in(type), dtype: int64"
      ]
     },
     "execution_count": 11,
     "metadata": {},
     "output_type": "execute_result"
    }
   ],
   "source": [
    "group_rest['listed_in(type)'].count()"
   ]
  },
  {
   "cell_type": "code",
   "execution_count": 12,
   "id": "1f9d9c23",
   "metadata": {},
   "outputs": [
    {
     "data": {
      "text/plain": [
       "23"
      ]
     },
     "execution_count": 12,
     "metadata": {},
     "output_type": "execute_result"
    }
   ],
   "source": [
    "# finding indiviual restaurant and their count\n",
    "# like for cafes :\n",
    "group_rest.get_group('Cafes')['listed_in(type)'].count()"
   ]
  },
  {
   "cell_type": "code",
   "execution_count": 13,
   "id": "bd20363c",
   "metadata": {},
   "outputs": [
    {
     "data": {
      "text/plain": [
       "Text(0.5, 0, 'Types of restaurants')"
      ]
     },
     "execution_count": 13,
     "metadata": {},
     "output_type": "execute_result"
    },
    {
     "data": {
      "image/png": "[encoded data removed]",
      "text/plain": [
       "<Figure size 640x480 with 1 Axes>"
      ]
     },
     "metadata": {},
     "output_type": "display_data"
    }
   ],
   "source": [
    "seaborn.countplot(x=zomatodata[\"listed_in(type)\"])\n",
    "plt.title(\"Types of restaurant and their count\")\n",
    "plt.xlabel(\"Types of restaurants\")"
   ]
  },
  {
   "cell_type": "code",
   "execution_count": null,
   "id": "e88e5f02",
   "metadata": {},
   "outputs": [],
   "source": []
  },
  {
   "cell_type": "markdown",
   "id": "4ae93d86",
   "metadata": {},
   "source": [
    "# How Many Votes has each type of Restaurant received from customers? :"
   ]
  },
  {
   "cell_type": "code",
   "execution_count": 14,
   "id": "edd2da06",
   "metadata": {
    "scrolled": false
   },
   "outputs": [
    {
     "name": "stdout",
     "output_type": "stream",
     "text": [
      "Buffet\n",
      "Cafes\n",
      "Dining\n",
      "other\n"
     ]
    }
   ],
   "source": [
    "for rest_name , rest_type in group_rest:\n",
    "    print(rest_name)"
   ]
  },
  {
   "cell_type": "code",
   "execution_count": 15,
   "id": "968ce6e1",
   "metadata": {},
   "outputs": [
    {
     "name": "stdout",
     "output_type": "stream",
     "text": [
      "Buffet\n",
      "                                              name online_order book_table  \\\n",
      "0                                            Jalsa          Yes        Yes   \n",
      "1                                   Spice Elephant          Yes         No   \n",
      "2                                  San Churro Cafe          Yes         No   \n",
      "3                            Addhuri Udupi Bhojana           No         No   \n",
      "4                                    Grand Village           No         No   \n",
      "5                                  Timepass Dinner          Yes         No   \n",
      "6  Rosewood International Hotel - Bar & Restaurant           No         No   \n",
      "\n",
      "   rate  votes  approx_cost(for two people) listed_in(type)  \n",
      "0   4.1    775                          800          Buffet  \n",
      "1   4.1    787                          800          Buffet  \n",
      "2   3.8    918                          800          Buffet  \n",
      "3   3.7     88                          300          Buffet  \n",
      "4   3.8    166                          600          Buffet  \n",
      "5   3.8    286                          600          Buffet  \n",
      "6   3.6      8                          800          Buffet  \n",
      "Cafes\n",
      "                             name online_order book_table  rate  votes  \\\n",
      "7                          Onesta          Yes        Yes   4.6   2556   \n",
      "9                       Smacznego          Yes         No   4.2    504   \n",
      "10                   Village Café          Yes         No   4.1    402   \n",
      "11                   Cafe Shuffle          Yes        Yes   4.2    150   \n",
      "12               The Coffee Shack          Yes        Yes   4.2    164   \n",
      "13                     Caf-Eleven           No         No   4.0    424   \n",
      "14                San Churro Cafe          Yes         No   3.8    918   \n",
      "15                  Cafe Vivacity          Yes         No   3.8     90   \n",
      "16                   Catch-up-ino          Yes         No   3.9    133   \n",
      "17               Kirthi's Biryani          Yes         No   3.8    144   \n",
      "18                       T3H Cafe           No         No   3.9     93   \n",
      "19  360 Atoms Restaurant And Cafe          Yes         No   3.1     13   \n",
      "20               The Vintage Cafe          Yes         No   3.0     62   \n",
      "21                   Woodee Pizza          Yes         No   3.7    180   \n",
      "22                Cafe Coffee Day           No         No   3.6     28   \n",
      "23                   My Tea House          Yes         No   3.6     62   \n",
      "24                  Hide Out Cafe           No         No   3.7     31   \n",
      "25                      CAFE NOVA           No         No   3.2     11   \n",
      "26                   Coffee Tindi          Yes         No   3.8     75   \n",
      "27                 Sea Green Cafe           No         No   3.3      4   \n",
      "28                          Cuppa           No         No   3.3     23   \n",
      "29               Srinathji's Cafe           No         No   3.8    148   \n",
      "30                      Redberrys          Yes         No   4.0    219   \n",
      "\n",
      "    approx_cost(for two people) listed_in(type)  \n",
      "7                           600           Cafes  \n",
      "9                           550           Cafes  \n",
      "10                          500           Cafes  \n",
      "11                          600           Cafes  \n",
      "12                          500           Cafes  \n",
      "13                          450           Cafes  \n",
      "14                          800           Cafes  \n",
      "15                          650           Cafes  \n",
      "16                          800           Cafes  \n",
      "17                          700           Cafes  \n",
      "18                          300           Cafes  \n",
      "19                          400           Cafes  \n",
      "20                          400           Cafes  \n",
      "21                          500           Cafes  \n",
      "22                          900           Cafes  \n",
      "23                          600           Cafes  \n",
      "24                          300           Cafes  \n",
      "25                          600           Cafes  \n",
      "26                          200           Cafes  \n",
      "27                          500           Cafes  \n",
      "28                          550           Cafes  \n",
      "29                          550           Cafes  \n",
      "30                          600           Cafes  \n",
      "Dining\n",
      "                 name online_order book_table  rate  votes  \\\n",
      "32        Sweet Truth          Yes         No   3.9     35   \n",
      "33    Ovenstory Pizza          Yes         No   3.9    172   \n",
      "35    Behrouz Biryani          Yes         No   3.9    230   \n",
      "36     Fast And Fresh          Yes         No   2.8     91   \n",
      "37    Szechuan Dragon          Yes         No   4.2   1647   \n",
      "..                ...          ...        ...   ...    ...   \n",
      "143  Melting Melodies           No         No   3.3      0   \n",
      "144   New Indraprasta           No         No   3.3      0   \n",
      "145      Anna Kuteera          Yes         No   4.0    771   \n",
      "146            Darbar           No         No   3.0     98   \n",
      "147     Vijayalakshmi          Yes         No   3.9     47   \n",
      "\n",
      "     approx_cost(for two people) listed_in(type)  \n",
      "32                           500          Dining  \n",
      "33                           750          Dining  \n",
      "35                           650          Dining  \n",
      "36                           400          Dining  \n",
      "37                           600          Dining  \n",
      "..                           ...             ...  \n",
      "143                          100          Dining  \n",
      "144                          150          Dining  \n",
      "145                          450          Dining  \n",
      "146                          800          Dining  \n",
      "147                          200          Dining  \n",
      "\n",
      "[110 rows x 7 columns]\n",
      "other\n",
      "                 name online_order book_table  rate  votes  \\\n",
      "8      Penthouse Cafe          Yes         No   4.0    324   \n",
      "31         Foodiction          Yes         No   2.8    506   \n",
      "34             Faasos          Yes         No   4.2    415   \n",
      "38  Empire Restaurant          Yes         No   4.4   4884   \n",
      "44             Onesta          Yes        Yes   4.6   2556   \n",
      "57             Wamama          Yes        Yes   4.2    354   \n",
      "60      Peppy Peppers           No         No   4.2    244   \n",
      "73           LSD Cafe           No         No   2.9     84   \n",
      "\n",
      "    approx_cost(for two people) listed_in(type)  \n",
      "8                           700           other  \n",
      "31                          500           other  \n",
      "34                          500           other  \n",
      "38                          750           other  \n",
      "44                          600           other  \n",
      "57                          800           other  \n",
      "60                          800           other  \n",
      "73                          700           other  \n"
     ]
    }
   ],
   "source": [
    "for rest_name , rest_type in group_rest:\n",
    "    print(rest_name)\n",
    "    print(rest_type)"
   ]
  },
  {
   "cell_type": "code",
   "execution_count": 16,
   "id": "70308610",
   "metadata": {
    "scrolled": false
   },
   "outputs": [
    {
     "name": "stdout",
     "output_type": "stream",
     "text": [
      "Types of Restaurants and their votes recieved from customers : \n"
     ]
    },
    {
     "data": {
      "text/plain": [
       "listed_in(type)\n",
       "Buffet     3028\n",
       "Cafes      6434\n",
       "Dining    20363\n",
       "other      9367\n",
       "Name: votes, dtype: int64"
      ]
     },
     "execution_count": 16,
     "metadata": {},
     "output_type": "execute_result"
    }
   ],
   "source": [
    "print(\"Types of Restaurants and their votes recieved from customers : \")\n",
    "group_rest[\"votes\"].sum()"
   ]
  },
  {
   "cell_type": "code",
   "execution_count": 17,
   "id": "ade3980d",
   "metadata": {},
   "outputs": [],
   "source": [
    "grouping_datas = zomatodata.groupby(\"listed_in(type)\")[\"votes\"].sum()"
   ]
  },
  {
   "cell_type": "code",
   "execution_count": 18,
   "id": "4759e905",
   "metadata": {},
   "outputs": [
    {
     "data": {
      "text/plain": [
       "listed_in(type)\n",
       "Buffet     3028\n",
       "Cafes      6434\n",
       "Dining    20363\n",
       "other      9367\n",
       "Name: votes, dtype: int64"
      ]
     },
     "execution_count": 18,
     "metadata": {},
     "output_type": "execute_result"
    }
   ],
   "source": [
    "grouping_datas"
   ]
  },
  {
   "cell_type": "code",
   "execution_count": 19,
   "id": "8dd94b13",
   "metadata": {},
   "outputs": [],
   "source": [
    "result = pandas.DataFrame({'votes' : grouping_datas})"
   ]
  },
  {
   "cell_type": "code",
   "execution_count": 20,
   "id": "96b4561a",
   "metadata": {},
   "outputs": [
    {
     "data": {
      "text/html": [
       "<div>\n",
       "<style scoped>\n",
       "    .dataframe tbody tr th:only-of-type {\n",
       "        vertical-align: middle;\n",
       "    }\n",
       "\n",
       "    .dataframe tbody tr th {\n",
       "        vertical-align: top;\n",
       "    }\n",
       "\n",
       "    .dataframe thead th {\n",
       "        text-align: right;\n",
       "    }\n",
       "</style>\n",
       "<table border=\"1\" class=\"dataframe\">\n",
       "  <thead>\n",
       "    <tr style=\"text-align: right;\">\n",
       "      <th></th>\n",
       "      <th>votes</th>\n",
       "    </tr>\n",
       "    <tr>\n",
       "      <th>listed_in(type)</th>\n",
       "      <th></th>\n",
       "    </tr>\n",
       "  </thead>\n",
       "  <tbody>\n",
       "    <tr>\n",
       "      <th>Buffet</th>\n",
       "      <td>3028</td>\n",
       "    </tr>\n",
       "    <tr>\n",
       "      <th>Cafes</th>\n",
       "      <td>6434</td>\n",
       "    </tr>\n",
       "    <tr>\n",
       "      <th>Dining</th>\n",
       "      <td>20363</td>\n",
       "    </tr>\n",
       "    <tr>\n",
       "      <th>other</th>\n",
       "      <td>9367</td>\n",
       "    </tr>\n",
       "  </tbody>\n",
       "</table>\n",
       "</div>"
      ],
      "text/plain": [
       "                 votes\n",
       "listed_in(type)       \n",
       "Buffet            3028\n",
       "Cafes             6434\n",
       "Dining           20363\n",
       "other             9367"
      ]
     },
     "execution_count": 20,
     "metadata": {},
     "output_type": "execute_result"
    }
   ],
   "source": [
    "result"
   ]
  },
  {
   "cell_type": "code",
   "execution_count": 21,
   "id": "ebbac297",
   "metadata": {},
   "outputs": [
    {
     "data": {
      "text/plain": [
       "Text(0.5, 1.0, 'Restaurants and their corresponding Votes Given by Customers')"
      ]
     },
     "execution_count": 21,
     "metadata": {},
     "output_type": "execute_result"
    },
    {
     "data": {
      "image/png": "[encoded data removed]",
      "text/plain": [
       "<Figure size 640x480 with 1 Axes>"
      ]
     },
     "metadata": {},
     "output_type": "display_data"
    }
   ],
   "source": [
    "plt.plot(result,label=\"Votes\" , linestyle=\"--\" , marker = \"*\",markersize=12)\n",
    "plt.legend()\n",
    "plt.xlabel(\"Types of Restaurants\")\n",
    "plt.ylabel(\"Votes\")\n",
    "plt.title(\"Restaurants and their corresponding Votes Given by Customers\")"
   ]
  },
  {
   "cell_type": "code",
   "execution_count": 22,
   "id": "b0eeb3c5",
   "metadata": {},
   "outputs": [
    {
     "data": {
      "image/png": "[encoded data removed]",
      "text/plain": [
       "<Figure size 640x480 with 1 Axes>"
      ]
     },
     "metadata": {},
     "output_type": "display_data"
    }
   ],
   "source": [
    "plt.plot(result,label=\"Votes\" , linestyle=\"--\" , marker = \"*\",markersize=12)\n",
    "plt.legend()\n",
    "plt.xlabel(\"Types of Restaurants\",size=12)\n",
    "plt.ylabel(\"Votes\",size=11)\n",
    "plt.title(\"Restaurants and their corresponding Votes Given by Customers\")\n",
    "plt.grid(visible = True)"
   ]
  },
  {
   "cell_type": "code",
   "execution_count": null,
   "id": "49a2798f",
   "metadata": {},
   "outputs": [],
   "source": []
  },
  {
   "cell_type": "markdown",
   "id": "1a32b2a0",
   "metadata": {},
   "source": [
    "# Rate Distribution"
   ]
  },
  {
   "cell_type": "code",
   "execution_count": 23,
   "id": "e421c041",
   "metadata": {},
   "outputs": [
    {
     "data": {
      "image/png": "[encoded data removed]",
      "text/plain": [
       "<Figure size 640x480 with 1 Axes>"
      ]
     },
     "metadata": {},
     "output_type": "display_data"
    }
   ],
   "source": [
    "plt.hist(zomatodata[\"rate\"],bins=5)\n",
    "plt.title(\"Rate Distribution\")\n",
    "plt.show()"
   ]
  },
  {
   "cell_type": "code",
   "execution_count": null,
   "id": "4333170b",
   "metadata": {},
   "outputs": [],
   "source": []
  },
  {
   "cell_type": "markdown",
   "id": "e900196a",
   "metadata": {},
   "source": [
    "# what price range do most people usually place their orders on the zomato "
   ]
  },
  {
   "cell_type": "code",
   "execution_count": 24,
   "id": "f18034e5",
   "metadata": {},
   "outputs": [],
   "source": [
    "cost_group = zomatodata.groupby('approx_cost(for two people)')"
   ]
  },
  {
   "cell_type": "code",
   "execution_count": 25,
   "id": "ef3f4d42",
   "metadata": {},
   "outputs": [
    {
     "name": "stdout",
     "output_type": "stream",
     "text": [
      "100\n",
      "150\n",
      "200\n",
      "250\n",
      "300\n",
      "350\n",
      "400\n",
      "450\n",
      "500\n",
      "550\n",
      "600\n",
      "650\n",
      "700\n",
      "750\n",
      "800\n",
      "850\n",
      "900\n",
      "950\n"
     ]
    }
   ],
   "source": [
    "# Finding cost range spend on zomato by couples on their each order : \n",
    "for cost , cost_count in cost_group:\n",
    "    print(cost)"
   ]
  },
  {
   "cell_type": "code",
   "execution_count": 26,
   "id": "49ab6211",
   "metadata": {},
   "outputs": [
    {
     "data": {
      "text/plain": [
       "approx_cost(for two people)\n",
       "100     6\n",
       "150    16\n",
       "200    16\n",
       "250     6\n",
       "300    23\n",
       "350     3\n",
       "400    15\n",
       "450     6\n",
       "500    14\n",
       "550     3\n",
       "600    13\n",
       "650     2\n",
       "700     5\n",
       "750     3\n",
       "800    12\n",
       "850     2\n",
       "900     2\n",
       "950     1\n",
       "Name: approx_cost(for two people), dtype: int64"
      ]
     },
     "execution_count": 26,
     "metadata": {},
     "output_type": "execute_result"
    }
   ],
   "source": [
    "# What is the most common amount spent by couples on their order on zomato?\n",
    "cost_group['approx_cost(for two people)'].count()"
   ]
  },
  {
   "cell_type": "code",
   "execution_count": 27,
   "id": "59a48393",
   "metadata": {},
   "outputs": [
    {
     "data": {
      "image/png": "[encoded data removed]",
      "text/plain": [
       "<Figure size 640x480 with 1 Axes>"
      ]
     },
     "metadata": {},
     "output_type": "display_data"
    }
   ],
   "source": [
    "seaborn.countplot(x=zomatodata['approx_cost(for two people)'])\n",
    "plt.xlabel(\"COMMON AMOUNT SPENT ON ZOMATO BY CUSTOMERS\")\n",
    "plt.show()"
   ]
  },
  {
   "cell_type": "code",
   "execution_count": null,
   "id": "d95bad67",
   "metadata": {},
   "outputs": [],
   "source": []
  },
  {
   "cell_type": "markdown",
   "id": "ee2bbc8a",
   "metadata": {},
   "source": [
    "# Which mode of service do customers prefer more: online or offline?"
   ]
  },
  {
   "cell_type": "code",
   "execution_count": 28,
   "id": "618e499d",
   "metadata": {},
   "outputs": [],
   "source": [
    "prefer_group = zomatodata.groupby(\"online_order\")"
   ]
  },
  {
   "cell_type": "code",
   "execution_count": 29,
   "id": "6315c49d",
   "metadata": {},
   "outputs": [
    {
     "name": "stdout",
     "output_type": "stream",
     "text": [
      "No\n",
      "Yes\n"
     ]
    }
   ],
   "source": [
    "for onlinemode , details in prefer_group:\n",
    "    print(onlinemode)"
   ]
  },
  {
   "cell_type": "code",
   "execution_count": 30,
   "id": "e4bb7226",
   "metadata": {},
   "outputs": [
    {
     "data": {
      "text/plain": [
       "online_order\n",
       "No     90\n",
       "Yes    58\n",
       "Name: online_order, dtype: int64"
      ]
     },
     "execution_count": 30,
     "metadata": {},
     "output_type": "execute_result"
    }
   ],
   "source": [
    "prefer_group[\"online_order\"].count()"
   ]
  },
  {
   "cell_type": "code",
   "execution_count": 31,
   "id": "d5463b42",
   "metadata": {},
   "outputs": [
    {
     "data": {
      "image/png": "[encoded data removed]",
      "text/plain": [
       "<Figure size 640x480 with 1 Axes>"
      ]
     },
     "metadata": {},
     "output_type": "display_data"
    }
   ],
   "source": [
    "seaborn.countplot(x=zomatodata['online_order'])\n",
    "plt.title(\"Prefered Order by Customer(ONLINE OR OFFLINE)\")\n",
    "plt.xlabel(\"Online Order\")\n",
    "plt.show()"
   ]
  },
  {
   "cell_type": "code",
   "execution_count": null,
   "id": "c017761d",
   "metadata": {},
   "outputs": [],
   "source": []
  }
 ],
 "metadata": {
  "kernelspec": {
   "display_name": "Python 3 (ipykernel)",
   "language": "python",
   "name": "python3"
  },
  "language_info": {
   "codemirror_mode": {
    "name": "ipython",
    "version": 3
   },
   "file_extension": ".py",
   "mimetype": "text/x-python",
   "name": "python",
   "nbconvert_exporter": "python",
   "pygments_lexer": "ipython3",
   "version": "3.10.9"
  }
 },
 "nbformat": 4,
 "nbformat_minor": 5
}
